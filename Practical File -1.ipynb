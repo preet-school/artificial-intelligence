{
  "nbformat": 4,
  "nbformat_minor": 0,
  "metadata": {
    "colab": {
      "provenance": [],
      "include_colab_link": true
    },
    "kernelspec": {
      "name": "python3",
      "display_name": "Python 3"
    },
    "language_info": {
      "name": "python"
    }
  },
  "cells": [
    {
      "cell_type": "markdown",
      "metadata": {
        "id": "view-in-github",
        "colab_type": "text"
      },
      "source": [
        "<a href=\"https://colab.research.google.com/github/preet-school/artificial-intelligence/blob/main/Practical%20File%20-1.ipynb\" target=\"_parent\"><img src=\"https://colab.research.google.com/assets/colab-badge.svg\" alt=\"Open In Colab\"/></a>"
      ]
    },
    {
      "cell_type": "markdown",
      "source": [
        "PRACTICAL FILE: ARITIFICIAL INTELLIGENCE\n",
        "CLASS: IX\n",
        "\n",
        "1. Any Python software can be used to solve the programs.\n",
        "2. For each program, the code as well as the output should be clearly printed.\n",
        "3. Link to the Google Colab Template file is shared as a reference.\n",
        "\n",
        "Link for Google Colab\n",
        "https://colab.research.google.com/drive/1BmFPjzAboArrYN0rpyim4D6heOQGbyAY?usp=sharing\n",
        "\n",
        "\n",
        "\n"
      ],
      "metadata": {
        "id": "aaB4qfakogSe"
      }
    },
    {
      "cell_type": "markdown",
      "source": [
        "# 1.WAP to find the sum of 2 numbers"
      ],
      "metadata": {
        "id": "Aywf12TcB2YG"
      }
    },
    {
      "cell_type": "code",
      "source": [
        "number_1 = float(input(\"Enter the first number = \"))\n",
        "number_2 = float(input(\"Enter the second number = \"))\n",
        "sum = number_1 + number_2\n",
        "print(\"The sum of the two numbers is\", sum)"
      ],
      "metadata": {
        "id": "V0MNpO-VB7mw",
        "colab": {
          "base_uri": "https://localhost:8080/"
        },
        "outputId": "b6c697e8-e125-4f5f-8c0f-a1c9938e5797"
      },
      "execution_count": 2,
      "outputs": [
        {
          "output_type": "stream",
          "name": "stdout",
          "text": [
            "Enter the first number = 17\n",
            "Enter the second number = 36\n",
            "The sum of the two numbers is 53.0\n"
          ]
        }
      ]
    },
    {
      "cell_type": "markdown",
      "source": [
        "# 2. WAP to find the area and perimenter of a Rectangle"
      ],
      "metadata": {
        "id": "2EPBZaTKB8ZO"
      }
    },
    {
      "cell_type": "code",
      "source": [
        "length = float(input(\"Enter the length of the rectangle = \"))\n",
        "breadth = float(input(\"Enter the breadth of the rectangle = \"))\n",
        "perimeter = 2 * (length + breadth)\n",
        "area = length * breadth\n",
        "print(\"The perimeter of the rectangle is\", perimeter)\n",
        "print(\"The area of the rectangle is\", area)"
      ],
      "metadata": {
        "id": "TUbmFuPACGJF",
        "colab": {
          "base_uri": "https://localhost:8080/"
        },
        "outputId": "1a7a0a1e-7922-4f1f-bcb5-aa5b5072228a"
      },
      "execution_count": 4,
      "outputs": [
        {
          "output_type": "stream",
          "name": "stdout",
          "text": [
            "Enter the length of the rectangle = 15\n",
            "Enter the breadth of the rectangle = 14\n",
            "The perimeter of the rectangle is 58.0\n",
            "The area of the rectangle is 210.0\n"
          ]
        }
      ]
    },
    {
      "cell_type": "markdown",
      "source": [
        "# 3. WAP to find the area and perimeter of a circle"
      ],
      "metadata": {
        "id": "0NpjFgPTCGiS"
      }
    },
    {
      "cell_type": "code",
      "source": [
        "radius = float(input(\"Enter the radius of the circle = \"))\n",
        "perimeter = 2 * 22/7 * radius\n",
        "area = 22/7 * (radius ** 2)\n",
        "print(\"The perimeter of the circle is\", perimeter)\n",
        "print(\"The area of the circle is\", area)"
      ],
      "metadata": {
        "id": "1Rm8FpmwCMWR",
        "colab": {
          "base_uri": "https://localhost:8080/"
        },
        "outputId": "4da5e19c-8005-4761-a655-aa9b31624e54"
      },
      "execution_count": 5,
      "outputs": [
        {
          "output_type": "stream",
          "name": "stdout",
          "text": [
            "Enter the radius of the circle = 9\n",
            "The perimeter of the circle is 56.57142857142857\n",
            "The area of the circle is 254.57142857142856\n"
          ]
        }
      ]
    },
    {
      "cell_type": "markdown",
      "source": [
        "#4. WAP to find the Simple interest(SI) & Amount. Get Principle, Interest & Term from console. SI= PNR/100    Amount=P+SI\n"
      ],
      "metadata": {
        "id": "_bhgaLtBCMt4"
      }
    },
    {
      "cell_type": "code",
      "source": [
        "principle_amount = float(input(\"Enter the principle amount = \"))\n",
        "interest = float(input(\"Enter the interest = \"))\n",
        "term = float(input(\"Enter the term = \"))\n",
        "simple_interest = (principle_amount * interest * term) / 100\n",
        "amount = principle_amount + simple_interest\n",
        "print(\"The simple interest is\", simple_interest)\n",
        "print(\"The amount is\", amount)"
      ],
      "metadata": {
        "id": "-ks2fPMZaHDa",
        "colab": {
          "base_uri": "https://localhost:8080/"
        },
        "outputId": "001a8cfe-5791-43a7-bfad-af44f4092b50"
      },
      "execution_count": 6,
      "outputs": [
        {
          "output_type": "stream",
          "name": "stdout",
          "text": [
            "Enter the principle amount = 81808\n",
            "Enter the interest = 2\n",
            "Enter the term = 1\n",
            "The simple interest is 1636.16\n",
            "The amount is 83444.16\n"
          ]
        }
      ]
    },
    {
      "cell_type": "markdown",
      "source": [
        "#5. WAP to find the amount to be paid after discount. Get labelled price & discount percentage from console."
      ],
      "metadata": {
        "id": "HmgMNPSOZtLk"
      }
    },
    {
      "cell_type": "code",
      "source": [
        "labelled_price = float(input(\"Enter the labelled price = \"))\n",
        "discount = float(input(\"Enter the discount (in %) = \"))\n",
        "discounted_price = labelled_price * ((100 - discount) / 100)\n",
        "print(\"The discounted price is\", discounted_price)"
      ],
      "metadata": {
        "id": "djlzeA6gaFGP",
        "colab": {
          "base_uri": "https://localhost:8080/"
        },
        "outputId": "12ae860f-5cef-4c0c-c29c-8a00db56836a"
      },
      "execution_count": 7,
      "outputs": [
        {
          "output_type": "stream",
          "name": "stdout",
          "text": [
            "Enter the labelled price = 696\n",
            "Enter the discount (in %) = 37\n",
            "The discounted price is 438.48\n"
          ]
        }
      ]
    },
    {
      "cell_type": "markdown",
      "source": [
        "#6. WAP to find the volume & total suface area of a sphere.\n",
        "Volume=4/3x3.14xrxrxr\n",
        "     Total surface area=4x3.14xrxr"
      ],
      "metadata": {
        "id": "-O_PvXLkaI9U"
      }
    },
    {
      "cell_type": "code",
      "source": [
        "radius = float(input(\"Enter the radius of the sphere = \"))\n",
        "volume = 4/3 * 22/7 * (radius ** 3)\n",
        "total_surface_area = 4 * 22/7 * (radius ** 2)\n",
        "print(\"The volume of the sphere is\", volume)\n",
        "print(\"The total surface area of the sphere is\", total_surface_area)"
      ],
      "metadata": {
        "id": "sta_D-cca1Jx",
        "colab": {
          "base_uri": "https://localhost:8080/"
        },
        "outputId": "fbd0664a-25dc-4f4b-a58d-f69747b8cab5"
      },
      "execution_count": 8,
      "outputs": [
        {
          "output_type": "stream",
          "name": "stdout",
          "text": [
            "Enter the radius of the sphere = 7\n",
            "The volume of the sphere is 1437.3333333333335\n",
            "The total surface area of the sphere is 616.0\n"
          ]
        }
      ]
    },
    {
      "cell_type": "markdown",
      "source": [
        "#7. WAP to convert Kilogram to Gram"
      ],
      "metadata": {
        "id": "KXF8k-11bQGQ"
      }
    },
    {
      "cell_type": "code",
      "source": [
        "kilogram = float(input(\"Enter the mass (in kg) = \"))\n",
        "gram = kilogram * 1000\n",
        "print(\"The mass of the object in grams is\", gram)"
      ],
      "metadata": {
        "id": "oWjxlTrUbYtM",
        "colab": {
          "base_uri": "https://localhost:8080/"
        },
        "outputId": "2d03ca7f-743c-40b6-e97c-e6cf9458cf77"
      },
      "execution_count": 9,
      "outputs": [
        {
          "output_type": "stream",
          "name": "stdout",
          "text": [
            "Enter the mass (in kg) = 10\n",
            "The mass of the object in grams is 10000.0\n"
          ]
        }
      ]
    },
    {
      "cell_type": "markdown",
      "source": [
        "#8.WAP to convert temperature in Farenheit to Celsius.\n",
        "C=5/9 x (F-32)"
      ],
      "metadata": {
        "id": "aiU_LfjmbkuC"
      }
    },
    {
      "cell_type": "code",
      "source": [
        "fahrenheit = float(input(\"Enter the temperature in Fahrenheit = \"))\n",
        "celsius = 5/9 * (fahrenheit - 32)\n",
        "print(\"The temperature in celsius is\", celsius)"
      ],
      "metadata": {
        "id": "jv3DUb71cc2-",
        "colab": {
          "base_uri": "https://localhost:8080/"
        },
        "outputId": "45524acb-df0e-4d4d-9fee-1b2247bc9871"
      },
      "execution_count": 10,
      "outputs": [
        {
          "output_type": "stream",
          "name": "stdout",
          "text": [
            "Enter the temperature in Fahrenheit = 29\n",
            "The temperature in celsius is -1.6666666666666667\n"
          ]
        }
      ]
    },
    {
      "cell_type": "markdown",
      "source": [
        "#9. WAP to get your name and display the name with prefix with 'Hello '"
      ],
      "metadata": {
        "id": "RTaBfxAUcf65"
      }
    },
    {
      "cell_type": "code",
      "source": [
        "name = input(\"Enter your name: \")\n",
        "print(\"Hello \" + name)"
      ],
      "metadata": {
        "id": "2YqoDN6Sd1Wx",
        "colab": {
          "base_uri": "https://localhost:8080/"
        },
        "outputId": "91d98c50-ef71-4463-e7b1-1f16821a538d"
      },
      "execution_count": 11,
      "outputs": [
        {
          "output_type": "stream",
          "name": "stdout",
          "text": [
            "Enter your name: Preet\n",
            "Hello Preet\n"
          ]
        }
      ]
    },
    {
      "cell_type": "markdown",
      "source": [
        "#10. WAP to find the area of a Right angle Triangle.  Get length of Base & Height from console.  \n",
        "Area of Right Angle Triangle=1/2 x base x height"
      ],
      "metadata": {
        "id": "qvRBL3OGeSLl"
      }
    },
    {
      "cell_type": "code",
      "source": [
        "base = float(input(\"Enter the length of the base of the triangle = \"))\n",
        "height = float(input(\"Enter the height of the base of the triangle = \"))\n",
        "area = 1/2 * base * height\n",
        "print(\"The area of the triangle is\", area)"
      ],
      "metadata": {
        "id": "VBK-lyo-cd_F",
        "colab": {
          "base_uri": "https://localhost:8080/"
        },
        "outputId": "6eb736c2-8519-4e7b-b9d8-250fa1f9e430"
      },
      "execution_count": 13,
      "outputs": [
        {
          "output_type": "stream",
          "name": "stdout",
          "text": [
            "Enter the length of the base of the triangle = 27\n",
            "Enter the height of the base of the triangle = 3\n",
            "The area of the triangle is 40.5\n"
          ]
        }
      ]
    },
    {
      "cell_type": "markdown",
      "source": [
        "#11. WAP to check the given number is odd/even. If the number is even print its square and if its odd print its cube.\n"
      ],
      "metadata": {
        "id": "qgVqctlZGi28"
      }
    },
    {
      "cell_type": "code",
      "source": [
        "import math\n",
        "number = int(input(\"Enter a number = \"))\n",
        "if number % 2 == 0:\n",
        "    even_square = math.pow(number,2)\n",
        "    print(\"The given number is even. The square of the number is\", even_square)\n",
        "else:\n",
        "    odd_cube = math.pow(number,3)\n",
        "    print(\"The given number is odd. The cube of the number is\", odd_cube)"
      ],
      "metadata": {
        "id": "W09CL-KZGi28",
        "colab": {
          "base_uri": "https://localhost:8080/"
        },
        "outputId": "680924d6-fd0a-494b-feb5-3b33310cb337"
      },
      "execution_count": 14,
      "outputs": [
        {
          "output_type": "stream",
          "name": "stdout",
          "text": [
            "Enter a number = 15\n",
            "The given number is odd. The cube of the number is 3375.0\n"
          ]
        }
      ]
    },
    {
      "cell_type": "markdown",
      "source": [
        "#12. WAP to accept 2 numbers x and y from the user and check whether x is divisible by y or not."
      ],
      "metadata": {
        "id": "8LdHrcCQGj79"
      }
    },
    {
      "cell_type": "code",
      "source": [
        "x = float(input(\"Enter the first number = \"))\n",
        "y = float(input(\"Enter the second number = \"))\n",
        "if x%y == 0:\n",
        "    print(\"The first number is divisible by the second number\")\n",
        "else:\n",
        "    print(\"The first number is not divisible by the second number\")"
      ],
      "metadata": {
        "id": "eaEqfxqUGj7-",
        "colab": {
          "base_uri": "https://localhost:8080/"
        },
        "outputId": "47846980-cba1-4a07-8b3e-94e7b0a99891"
      },
      "execution_count": 15,
      "outputs": [
        {
          "output_type": "stream",
          "name": "stdout",
          "text": [
            "Enter the first number = 56\n",
            "Enter the second number = 22\n",
            "The first number is not divisible by the second number\n"
          ]
        }
      ]
    },
    {
      "cell_type": "markdown",
      "source": [
        "#13. WAP to find the given year is a leap year or not."
      ],
      "metadata": {
        "id": "-HZD4hndGkZh"
      }
    },
    {
      "cell_type": "code",
      "source": [
        "year = int(input(\"Enter a year = \"))\n",
        "if year % 400 == 0 and year % 100 == 0:\n",
        "    print(f\"{year} is a leap year\")\n",
        "elif year % 4 == 0 and year % 100 != 0:\n",
        "    print(f\"{year} is a leap year\")\n",
        "else:\n",
        "    print(f\"{year} is not a leap year\")"
      ],
      "metadata": {
        "id": "4pshH7mxGkZi",
        "colab": {
          "base_uri": "https://localhost:8080/"
        },
        "outputId": "3652e09c-d797-4662-e4ff-1131acbfab32"
      },
      "execution_count": 16,
      "outputs": [
        {
          "output_type": "stream",
          "name": "stdout",
          "text": [
            "Enter a year = 1561\n",
            "1561 is not a leap year\n"
          ]
        }
      ]
    },
    {
      "cell_type": "markdown",
      "source": [
        "# #14. WAP to accept 3 values from the user and print the largest value."
      ],
      "metadata": {
        "id": "uvufoQ26Glpx"
      }
    },
    {
      "cell_type": "code",
      "source": [
        "number_1 = float(input(\"Enter the first number = \"))\n",
        "number_2 = float(input(\"Enter the second number = \"))\n",
        "number_3 = float(input(\"Enter the third number = \"))\n",
        "if number_1 == number_2 == number_3:\n",
        "    print(\"All the numbers are equal\")\n",
        "else:\n",
        "    largest_number = number_1\n",
        "if largest_number < number_2:\n",
        "    largest_number = number_2\n",
        "if largest_number < number_3:\n",
        "    largest_number = number_3\n",
        "print(f\"{largest_number} is the largest number from all the other numbers provided\")"
      ],
      "metadata": {
        "id": "apNyTB_DGlpy",
        "colab": {
          "base_uri": "https://localhost:8080/"
        },
        "outputId": "8184f0fe-54b0-4c29-c030-c075ff6888e0"
      },
      "execution_count": 17,
      "outputs": [
        {
          "output_type": "stream",
          "name": "stdout",
          "text": [
            "Enter the first number = 18\n",
            "Enter the second number = 63\n",
            "Enter the third number = 96\n",
            "96.0 is the largest number from all the other numbers provided\n"
          ]
        }
      ]
    },
    {
      "cell_type": "markdown",
      "source": [
        "# 15. WAP to accept 3 sides of a triangle, check whether it is a valid triangle or not. If it is valid display the type of the triangle Scalene/Isoceles/Equilateral.(hind: sum of 2 sides are greater than the third side.)"
      ],
      "metadata": {
        "id": "UMFplnH6GmnJ"
      }
    },
    {
      "cell_type": "code",
      "source": [
        "side_1 = float(input(\"Enter the first side of the triangle = \"))\n",
        "side_2 = float(input(\"Enter the second side of the triangle = \"))\n",
        "side_3 = float(input(\"Enter the third side of the triangle = \"))\n",
        "if side_1 + side_2 > side_3 and side_2 + side_3 > side_1 and side_1 + side_3 > side_2:\n",
        "    print(\"The given triangle is a valid triangle\")\n",
        "else:\n",
        "    print(\"The given triangle is an invalid triangle\")\n",
        "if side_1 == side_2 == side_3:\n",
        "    print(\"The given triangle is an equilateral triangle\")\n",
        "elif side_1 == side_2 != side_3 or side_1 != side_2 == side_3:\n",
        "    print(\"The given triangle is an isoceles triangle\")\n",
        "else:\n",
        "    print(\"The given triangle is a scalene triangle\")"
      ],
      "metadata": {
        "id": "Qn2UMhLkGmnK",
        "colab": {
          "base_uri": "https://localhost:8080/"
        },
        "outputId": "166cd0e5-ce35-4ed8-d1f5-e2c8763d03ec"
      },
      "execution_count": 19,
      "outputs": [
        {
          "output_type": "stream",
          "name": "stdout",
          "text": [
            "Enter the first side of the triangle = 28\n",
            "Enter the second side of the triangle = 19\n",
            "Enter the third side of the triangle = 16\n",
            "The given triangle is a valid triangle\n",
            "The given triangle is a scalene triangle\n"
          ]
        }
      ]
    }
  ]
}